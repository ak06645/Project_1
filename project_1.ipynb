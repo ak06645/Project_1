{
 "cells": [
  {
   "cell_type": "markdown",
   "metadata": {},
   "source": [
    "# Project 1: Multiclass Classification on EUROSAT"
   ]
  },
  {
   "cell_type": "markdown",
   "metadata": {},
   "source": [
    "Welcome to your first project *Multiclass Classification on EUROSAT*! This notebook will guide you through elementary steps that need to be taken in many machine learning projects."
   ]
  },
  {
   "cell_type": "markdown",
   "metadata": {},
   "source": [
    "Submissions for Project 1 are due on **November 20th** via your group's folder in Stud.IP (please find more details towards the end of this notebook)."
   ]
  },
  {
   "cell_type": "markdown",
   "metadata": {},
   "source": [
    "1. Execute the following code to import required packages."
   ]
  },
  {
   "cell_type": "code",
   "execution_count": 1,
   "metadata": {},
   "outputs": [],
   "source": [
    "import matplotlib.pyplot as plt\n",
    "import matplotlib.colors as mcolors\n",
    "import numpy as np\n",
    "import pandas as pd\n",
    "import seaborn as sns\n",
    "import tensorflow as tf\n",
    "import tensorflow_datasets as tfds\n",
    "\n",
    "from tensorflow import keras"
   ]
  },
  {
   "cell_type": "markdown",
   "metadata": {},
   "source": [
    "## 1.1 Before Training"
   ]
  },
  {
   "cell_type": "markdown",
   "metadata": {},
   "source": [
    "### Loading the data\n",
    "\n",
    "2. Load the dataset ```EUROSAT``` in the version ```2.0.0```. To that end, call the function ```tfds.load``` only once and such that it returns a list ```[train_ds, val_ds, test_ds]``` as well as an object ```info``` of type ```tfds.core.DatasetInfo```. As a result, ```train_ds``` shall contain the first ```80%``` of the training split, ```val_ds``` shall contain the next ```10%``` of the training split, and ```test_ds``` shall contain the last ```10%``` of the training split of ```EUROSAT```.\n",
    "\n",
    "Useful information can be found under https://www.tensorflow.org/datasets/catalog/eurosat and https://www.tensorflow.org/datasets/overview."
   ]
  },
  {
   "cell_type": "code",
   "execution_count": 2,
   "metadata": {},
   "outputs": [
    {
     "data": {
      "text/plain": [
       "['abstract_reasoning',\n",
       " 'accentdb',\n",
       " 'aeslc',\n",
       " 'aflw2k3d',\n",
       " 'ag_news_subset',\n",
       " 'ai2_arc',\n",
       " 'ai2_arc_with_ir',\n",
       " 'amazon_us_reviews',\n",
       " 'anli',\n",
       " 'answer_equivalence',\n",
       " 'arc',\n",
       " 'asqa',\n",
       " 'asset',\n",
       " 'assin2',\n",
       " 'bair_robot_pushing_small',\n",
       " 'bccd',\n",
       " 'beans',\n",
       " 'bee_dataset',\n",
       " 'beir',\n",
       " 'big_patent',\n",
       " 'bigearthnet',\n",
       " 'billsum',\n",
       " 'binarized_mnist',\n",
       " 'binary_alpha_digits',\n",
       " 'ble_wind_field',\n",
       " 'blimp',\n",
       " 'booksum',\n",
       " 'bool_q',\n",
       " 'bucc',\n",
       " 'c4',\n",
       " 'caltech101',\n",
       " 'caltech_birds2010',\n",
       " 'caltech_birds2011',\n",
       " 'cardiotox',\n",
       " 'cars196',\n",
       " 'cassava',\n",
       " 'cats_vs_dogs',\n",
       " 'celeb_a',\n",
       " 'celeb_a_hq',\n",
       " 'cfq',\n",
       " 'cherry_blossoms',\n",
       " 'chexpert',\n",
       " 'cifar10',\n",
       " 'cifar100',\n",
       " 'cifar100_n',\n",
       " 'cifar10_1',\n",
       " 'cifar10_corrupted',\n",
       " 'cifar10_n',\n",
       " 'citrus_leaves',\n",
       " 'cityscapes',\n",
       " 'civil_comments',\n",
       " 'clevr',\n",
       " 'clic',\n",
       " 'clinc_oos',\n",
       " 'cmaterdb',\n",
       " 'cnn_dailymail',\n",
       " 'coco',\n",
       " 'coco_captions',\n",
       " 'coil100',\n",
       " 'colorectal_histology',\n",
       " 'colorectal_histology_large',\n",
       " 'common_voice',\n",
       " 'conll2003',\n",
       " 'controlled_noisy_web_labels',\n",
       " 'coqa',\n",
       " 'cos_e',\n",
       " 'cosmos_qa',\n",
       " 'covid19',\n",
       " 'covid19sum',\n",
       " 'crema_d',\n",
       " 'criteo',\n",
       " 'cs_restaurants',\n",
       " 'curated_breast_imaging_ddsm',\n",
       " 'cycle_gan',\n",
       " 'd4rl_adroit_door',\n",
       " 'd4rl_adroit_hammer',\n",
       " 'd4rl_adroit_pen',\n",
       " 'd4rl_adroit_relocate',\n",
       " 'd4rl_antmaze',\n",
       " 'd4rl_mujoco_ant',\n",
       " 'd4rl_mujoco_halfcheetah',\n",
       " 'd4rl_mujoco_hopper',\n",
       " 'd4rl_mujoco_walker2d',\n",
       " 'dart',\n",
       " 'davis',\n",
       " 'deep1b',\n",
       " 'deep_weeds',\n",
       " 'definite_pronoun_resolution',\n",
       " 'dementiabank',\n",
       " 'diabetic_retinopathy_detection',\n",
       " 'diamonds',\n",
       " 'div2k',\n",
       " 'dmlab',\n",
       " 'doc_nli',\n",
       " 'dolphin_number_word',\n",
       " 'domainnet',\n",
       " 'downsampled_imagenet',\n",
       " 'drop',\n",
       " 'dsprites',\n",
       " 'dtd',\n",
       " 'duke_ultrasound',\n",
       " 'e2e_cleaned',\n",
       " 'efron_morris75',\n",
       " 'emnist',\n",
       " 'eraser_multi_rc',\n",
       " 'esnli',\n",
       " 'eurosat',\n",
       " 'fashion_mnist',\n",
       " 'flic',\n",
       " 'flores',\n",
       " 'food101',\n",
       " 'forest_fires',\n",
       " 'fuss',\n",
       " 'gap',\n",
       " 'geirhos_conflict_stimuli',\n",
       " 'gem',\n",
       " 'genomics_ood',\n",
       " 'german_credit_numeric',\n",
       " 'gigaword',\n",
       " 'glove100_angular',\n",
       " 'glue',\n",
       " 'goemotions',\n",
       " 'gov_report',\n",
       " 'gpt3',\n",
       " 'gref',\n",
       " 'groove',\n",
       " 'grounded_scan',\n",
       " 'gsm8k',\n",
       " 'gtzan',\n",
       " 'gtzan_music_speech',\n",
       " 'hellaswag',\n",
       " 'higgs',\n",
       " 'hillstrom',\n",
       " 'horses_or_humans',\n",
       " 'howell',\n",
       " 'i_naturalist2017',\n",
       " 'i_naturalist2018',\n",
       " 'i_naturalist2021',\n",
       " 'imagenet2012',\n",
       " 'imagenet2012_corrupted',\n",
       " 'imagenet2012_fewshot',\n",
       " 'imagenet2012_multilabel',\n",
       " 'imagenet2012_real',\n",
       " 'imagenet2012_subset',\n",
       " 'imagenet_a',\n",
       " 'imagenet_lt',\n",
       " 'imagenet_r',\n",
       " 'imagenet_resized',\n",
       " 'imagenet_sketch',\n",
       " 'imagenet_v2',\n",
       " 'imagenette',\n",
       " 'imagewang',\n",
       " 'imdb_reviews',\n",
       " 'irc_disentanglement',\n",
       " 'iris',\n",
       " 'istella',\n",
       " 'kddcup99',\n",
       " 'kitti',\n",
       " 'kmnist',\n",
       " 'lambada',\n",
       " 'lfw',\n",
       " 'librispeech',\n",
       " 'librispeech_lm',\n",
       " 'libritts',\n",
       " 'ljspeech',\n",
       " 'lm1b',\n",
       " 'locomotion',\n",
       " 'lost_and_found',\n",
       " 'lsun',\n",
       " 'lvis',\n",
       " 'malaria',\n",
       " 'math_dataset',\n",
       " 'math_qa',\n",
       " 'mctaco',\n",
       " 'media_sum',\n",
       " 'mlqa',\n",
       " 'mnist',\n",
       " 'mnist_corrupted',\n",
       " 'movie_lens',\n",
       " 'movie_rationales',\n",
       " 'movielens',\n",
       " 'moving_mnist',\n",
       " 'mrqa',\n",
       " 'mslr_web',\n",
       " 'mt_opt',\n",
       " 'mtnt',\n",
       " 'multi_news',\n",
       " 'multi_nli',\n",
       " 'multi_nli_mismatch',\n",
       " 'natural_questions',\n",
       " 'natural_questions_open',\n",
       " 'newsroom',\n",
       " 'nsynth',\n",
       " 'nyu_depth_v2',\n",
       " 'ogbg_molpcba',\n",
       " 'omniglot',\n",
       " 'open_images_challenge2019_detection',\n",
       " 'open_images_v4',\n",
       " 'openbookqa',\n",
       " 'opinion_abstracts',\n",
       " 'opinosis',\n",
       " 'opus',\n",
       " 'oxford_flowers102',\n",
       " 'oxford_iiit_pet',\n",
       " 'para_crawl',\n",
       " 'pass',\n",
       " 'patch_camelyon',\n",
       " 'paws_wiki',\n",
       " 'paws_x_wiki',\n",
       " 'penguins',\n",
       " 'pet_finder',\n",
       " 'pg19',\n",
       " 'piqa',\n",
       " 'places365_small',\n",
       " 'placesfull',\n",
       " 'plant_leaves',\n",
       " 'plant_village',\n",
       " 'plantae_k',\n",
       " 'protein_net',\n",
       " 'qa4mre',\n",
       " 'qasc',\n",
       " 'quac',\n",
       " 'quality',\n",
       " 'quickdraw_bitmap',\n",
       " 'race',\n",
       " 'radon',\n",
       " 'reddit',\n",
       " 'reddit_disentanglement',\n",
       " 'reddit_tifu',\n",
       " 'ref_coco',\n",
       " 'resisc45',\n",
       " 'rlu_atari',\n",
       " 'rlu_atari_checkpoints',\n",
       " 'rlu_atari_checkpoints_ordered',\n",
       " 'rlu_control_suite',\n",
       " 'rlu_dmlab_explore_object_rewards_few',\n",
       " 'rlu_dmlab_explore_object_rewards_many',\n",
       " 'rlu_dmlab_rooms_select_nonmatching_object',\n",
       " 'rlu_dmlab_rooms_watermaze',\n",
       " 'rlu_dmlab_seekavoid_arena01',\n",
       " 'rlu_locomotion',\n",
       " 'rlu_rwrl',\n",
       " 'robomimic_ph',\n",
       " 'robonet',\n",
       " 'robosuite_panda_pick_place_can',\n",
       " 'rock_paper_scissors',\n",
       " 'rock_you',\n",
       " 's3o4d',\n",
       " 'salient_span_wikipedia',\n",
       " 'samsum',\n",
       " 'savee',\n",
       " 'scan',\n",
       " 'scene_parse150',\n",
       " 'schema_guided_dialogue',\n",
       " 'sci_tail',\n",
       " 'scicite',\n",
       " 'scientific_papers',\n",
       " 'scrolls',\n",
       " 'sentiment140',\n",
       " 'shapes3d',\n",
       " 'sift1m',\n",
       " 'simpte',\n",
       " 'siscore',\n",
       " 'smallnorb',\n",
       " 'smartwatch_gestures',\n",
       " 'snli',\n",
       " 'so2sat',\n",
       " 'speech_commands',\n",
       " 'spoken_digit',\n",
       " 'squad',\n",
       " 'squad_question_generation',\n",
       " 'stanford_dogs',\n",
       " 'stanford_online_products',\n",
       " 'star_cfq',\n",
       " 'starcraft_video',\n",
       " 'stl10',\n",
       " 'story_cloze',\n",
       " 'summscreen',\n",
       " 'sun397',\n",
       " 'super_glue',\n",
       " 'svhn_cropped',\n",
       " 'symmetric_solids',\n",
       " 'tao',\n",
       " 'tatoeba',\n",
       " 'ted_hrlr_translate',\n",
       " 'ted_multi_translate',\n",
       " 'tedlium',\n",
       " 'tf_flowers',\n",
       " 'the300w_lp',\n",
       " 'tiny_shakespeare',\n",
       " 'titanic',\n",
       " 'trec',\n",
       " 'trivia_qa',\n",
       " 'tydi_qa',\n",
       " 'uc_merced',\n",
       " 'ucf101',\n",
       " 'unified_qa',\n",
       " 'universal_dependencies',\n",
       " 'user_libri_audio',\n",
       " 'user_libri_text',\n",
       " 'vctk',\n",
       " 'visual_domain_decathlon',\n",
       " 'voc',\n",
       " 'voxceleb',\n",
       " 'voxforge',\n",
       " 'waymo_open_dataset',\n",
       " 'web_graph',\n",
       " 'web_nlg',\n",
       " 'web_questions',\n",
       " 'wider_face',\n",
       " 'wiki40b',\n",
       " 'wiki_auto',\n",
       " 'wiki_bio',\n",
       " 'wiki_dialog',\n",
       " 'wiki_table_questions',\n",
       " 'wiki_table_text',\n",
       " 'wikiann',\n",
       " 'wikihow',\n",
       " 'wikipedia',\n",
       " 'wikipedia_toxicity_subtypes',\n",
       " 'wine_quality',\n",
       " 'winogrande',\n",
       " 'wit',\n",
       " 'wit_kaggle',\n",
       " 'wmt13_translate',\n",
       " 'wmt14_translate',\n",
       " 'wmt15_translate',\n",
       " 'wmt16_translate',\n",
       " 'wmt17_translate',\n",
       " 'wmt18_translate',\n",
       " 'wmt19_translate',\n",
       " 'wmt_t2t_translate',\n",
       " 'wmt_translate',\n",
       " 'wordnet',\n",
       " 'wsc273',\n",
       " 'xnli',\n",
       " 'xquad',\n",
       " 'xsum',\n",
       " 'xtreme_pawsx',\n",
       " 'xtreme_pos',\n",
       " 'xtreme_s',\n",
       " 'xtreme_xnli',\n",
       " 'yahoo_ltrc',\n",
       " 'yelp_polarity_reviews',\n",
       " 'yes_no',\n",
       " 'youtube_vis']"
      ]
     },
     "execution_count": 2,
     "metadata": {},
     "output_type": "execute_result"
    }
   ],
   "source": [
    "tfds.list_builders()"
   ]
  },
  {
   "cell_type": "code",
   "execution_count": 9,
   "metadata": {
    "scrolled": false
   },
   "outputs": [],
   "source": [
    "# your code\n",
    "#ds, info = tfds.load('eurosat', split='train', shuffle_files=True, with_info=True)\n",
    "#train_ds, test_ds = tfds.load('eurosat', split=['train', 'test[:50%]'])\n",
    "(train_ds, val_ds, test_ds), info = tfds.load(\n",
    "    'eurosat',\n",
    "    split=['train[:80%]', 'train[80%:90%]', 'train[90%:]'],\n",
    "    with_info=True,\n",
    "    as_supervised=True,\n",
    "    )"
   ]
  },
  {
   "cell_type": "code",
   "execution_count": 10,
   "metadata": {},
   "outputs": [
    {
     "name": "stdout",
     "output_type": "stream",
     "text": [
      "Train set size:  2700\n"
     ]
    }
   ],
   "source": [
    "print(\"Train set size: \", len(val_ds))"
   ]
  },
  {
   "cell_type": "code",
   "execution_count": 11,
   "metadata": {
    "scrolled": true
   },
   "outputs": [
    {
     "data": {
      "text/plain": [
       "['AnnualCrop',\n",
       " 'Forest',\n",
       " 'HerbaceousVegetation',\n",
       " 'Highway',\n",
       " 'Industrial',\n",
       " 'Pasture',\n",
       " 'PermanentCrop',\n",
       " 'Residential',\n",
       " 'River',\n",
       " 'SeaLake']"
      ]
     },
     "execution_count": 11,
     "metadata": {},
     "output_type": "execute_result"
    }
   ],
   "source": [
    "class_names = info.features[\"label\"].names\n",
    "class_names"
   ]
  },
  {
   "cell_type": "code",
   "execution_count": 12,
   "metadata": {},
   "outputs": [
    {
     "data": {
      "text/plain": [
       "10"
      ]
     },
     "execution_count": 12,
     "metadata": {},
     "output_type": "execute_result"
    }
   ],
   "source": [
    "n_classes = info.features[\"label\"].num_classes\n",
    "n_classes"
   ]
  },
  {
   "cell_type": "markdown",
   "metadata": {},
   "source": [
    "The loaded datasets ```train_ds```, ```val_ds``` and ```test_ds``` are objects of type ```tensorflow.data.Dataset``` (or of a derived class). Moreover, ```info``` is an object of type ```tfds.core.DatasetInfo``` that contains useful information about the loaded data. In the following, you will first take a closer look at ```info```. Afterwards, you will learn how to access dataset items."
   ]
  },
  {
   "cell_type": "markdown",
   "metadata": {},
   "source": [
    "### Looking at the big picture\n",
    "\n",
    "Use ```info``` to get a rough overview about ```EUROSAT```. Each ```item``` contained in ```train_ds```, ```val_ds``` and ```test_ds``` is a ```dictionary``` with keys ```\"image\"``` and ```\"label\"```.\n",
    "\n",
    "3. Print the following information in the specified order:\n",
    "   - Image shape (shape of ```item[\"image\"]```)\n",
    "   - Label shape (shape of ```item[\"label\"]```)\n",
    "   - Number of classes\n",
    "   - Class names\n",
    "   - Number of training examples\n",
    "\n",
    "All these information can be extracted from ```info```. Do **not** use ```train_ds```, ```val_ds``` or ```test_ds``` directly. Print the first information using ```print(\"Image shape: {}\".format(YOUR_CODE))``` and proceed analogously in the other cases."
   ]
  },
  {
   "cell_type": "code",
   "execution_count": null,
   "metadata": {
    "scrolled": true
   },
   "outputs": [],
   "source": [
    "# your code"
   ]
  },
  {
   "cell_type": "markdown",
   "metadata": {},
   "source": [
    "**Checkpoint**: Your code should produce the following output.\n",
    "\n",
    "```\n",
    "Image shape: (64, 64, 3)\n",
    "Label shape: ()\n",
    "Number of classes: 10\n",
    "Class names: ['AnnualCrop', 'Forest', 'HerbaceousVegetation', 'Highway', 'Industrial', 'Pasture', 'PermanentCrop', 'Residential', 'River', 'SeaLake']\n",
    "Number of training examples: 27000\n",
    "```"
   ]
  },
  {
   "cell_type": "markdown",
   "metadata": {},
   "source": [
    "Next, we will display a subset of the loaded images.\n",
    "\n",
    "4. Use the function ```tfds.show_examples``` with optional arguments ```rows=2``` and ```cols=5```, to display ten items from ```train_ds```."
   ]
  },
  {
   "cell_type": "code",
   "execution_count": null,
   "metadata": {
    "scrolled": false
   },
   "outputs": [],
   "source": [
    "# your code"
   ]
  },
  {
   "cell_type": "markdown",
   "metadata": {},
   "source": [
    "We do already know the number of elements in the full ```EUROSAT``` dataset. However, we subdivided the original training split into training, validation and test data. Moreover, we do not know how many items from which class are in the respective subsets.\n",
    "\n",
    "5. Write a function ```count_occurences``` that takes as input a dataset ```ds``` and an object ```info```, and returns an array ```num_occurences```. Therein, ```num_occurences[i]``` represents the number of elements with ```item[\"label\"] = i``` in ```ds```.\n",
    "\n",
    "You can iterate over all elements in ```ds``` using a loop in the form of ```for item in ds: ...```."
   ]
  },
  {
   "cell_type": "code",
   "execution_count": null,
   "metadata": {},
   "outputs": [],
   "source": [
    "# your code"
   ]
  },
  {
   "cell_type": "markdown",
   "metadata": {},
   "source": [
    "6. Apply your function to ```train_ds```, ```val_ds``` und ```test_ds``` and print the frequencies of occurence of all classes in the respective datasets. Use\n",
    "```python\n",
    "train_occurences = YOUR_CODE\n",
    "print(\"train_ds:\\t {}\".format(train_occurences))\n",
    "```\n",
    "for the first output, and format the other two accordingly."
   ]
  },
  {
   "cell_type": "code",
   "execution_count": null,
   "metadata": {},
   "outputs": [],
   "source": [
    "# your code"
   ]
  },
  {
   "cell_type": "markdown",
   "metadata": {},
   "source": [
    "**Checkpoint:** Your code should produce the following output.\n",
    "\n",
    "```\n",
    "train_ds:\t [2427 2425 2379 1996 1999 1603 1996 2392 1989 2394]\n",
    "val_ds:\t\t [297 289 304 252 244 206 237 298 266 307]\n",
    "test_ds:\t [276 286 317 252 257 191 267 310 245 299]\n",
    "```\n",
    "\n",
    "The number of elements in a dataset can alternatively be accessed via the method ```tensorflow.data.Dataset.cardinality```."
   ]
  },
  {
   "cell_type": "markdown",
   "metadata": {},
   "source": [
    "Finally, let us get an idea of the range of values of the loaded images.\n",
    "\n",
    "7. Print the data format ```item[\"image\"].dtype``` as well as the smallest and largest entry of an arbitrary element ```item``` from ```train_ds```. Format the output analogous to above.\n",
    "\n",
    "By calling ```train_ds.take(1)``` you obtain a new dataset of type ```tensorflow.data.Dataset``` that contains only one item from ```train_ds```. The functions ```np.min``` and ```np.max``` can be helpful in order to compute the smallest and largest entries of an image. Although ```item[\"image\"]``` is a tensor, you can apply ```numpy``` functions directly to it. In case you ever want to cast ```item[\"image\"]``` (or any other tensor) explicitly as a ```numpy``` array (which does not apply here), the method ```item[\"image\"].numpy()``` is for you."
   ]
  },
  {
   "cell_type": "code",
   "execution_count": null,
   "metadata": {
    "scrolled": true
   },
   "outputs": [],
   "source": [
    "# your code"
   ]
  },
  {
   "cell_type": "markdown",
   "metadata": {},
   "source": [
    "### Preprocessing the data\n",
    "In the previous step we have seen that the data are in integer format with entries in the range $\\{0,\\dots,255\\}$ (well, we actually only looked at a single image, but a look at the entire dataset would reveal that this is true). In terms of a training algorithm to be used later, it is often advantageous to rescale the data to a smaller interval. Now, we will rescale all images from ```train_ds```, ```val_ds``` und ```test_ds``` to the range $[0, 1]$ through division by $255$. At the same time, we will transform all elements ```item``` from a ```dictionary``` to a tuple ```(item[\"image\"] / 255, item[\"label\"])```.\n",
    "\n",
    "8. Write a function ```preprocess``` that takes as input an element ```item``` and returns a tuple as described above."
   ]
  },
  {
   "cell_type": "code",
   "execution_count": null,
   "metadata": {},
   "outputs": [],
   "source": [
    "# your code"
   ]
  },
  {
   "cell_type": "markdown",
   "metadata": {},
   "source": [
    "9. Transform the datasets ```train_ds```, ```val_ds``` und ```test_ds``` using your function ```preprocess```. One call ```ds = ds.map(preprocess)``` is enough to transform a full dataset."
   ]
  },
  {
   "cell_type": "code",
   "execution_count": null,
   "metadata": {},
   "outputs": [],
   "source": [
    "# your code"
   ]
  },
  {
   "cell_type": "markdown",
   "metadata": {},
   "source": [
    "The class ```tf.data.Dataset``` provides various methods that can simplify the transformation of single items or entire datasets drastically. Two such methods are the above-mentioned ```tf.data.Dataset.take```, which requires an argument ```count``` and returns a new dataset including the first ```count``` elements of the calling dataset, as well as ```tf.data.Dataset.map```, which requires a function ```preprocess``` as input and applies this function automatically to all items in the dataset.\n",
    "\n",
    "Further methods from ```tf.data.Dataset```, which we will now use to construct an **input pipeline**, are\n",
    "- ```tf.data.Dataset.repeat``` to repeat a dataset a certain number of times,\n",
    "- ```tf.data.Dataset.shuffle``` to shuffle the items of a dataset randomly,\n",
    "- ```tf.data.Dataset.batch``` to group items of a dataset in batches of a certain size,\n",
    "- ```tf.data.Dataset.prefetch```.\n",
    "\n",
    "The usage of ```tf.data.Dataset``` is particularly efficient because only a fraction of the entire dataset is kept in the working memory at each time during training. Required data are loaded sequentially from disk into working memory and preprocessed. The method ```prefetch``` takes care that a specific number of batches will always be buffered ahead of time in the working memory. This prevents delays during training that could be caused by data loading and preprocessing. Further information can be found under https://www.tensorflow.org/api_docs/python/tf/data/Dataset.\n",
    "\n",
    "10. Define ```batch_size = 32``` (will be needed in the next step). Then, apply the methods ```repeat``` (without argument), ```shuffle``` (with arguments ```buffer_size=1024``` and ```seed=0```), ```batch``` (with argument ```batch_size=batch_size```) and ```prefetch``` (with argument ```buffer_size=1```) to ```train_ds``` (in the specified order)."
   ]
  },
  {
   "cell_type": "code",
   "execution_count": null,
   "metadata": {},
   "outputs": [],
   "source": [
    "# your code"
   ]
  },
  {
   "cell_type": "markdown",
   "metadata": {},
   "source": [
    "11. Execute the follwing code:"
   ]
  },
  {
   "cell_type": "code",
   "execution_count": null,
   "metadata": {
    "scrolled": true
   },
   "outputs": [],
   "source": [
    "for item in train_ds.take(1):\n",
    "    print(item[0].shape)\n",
    "    plt.imshow(item[0][0, ...], cmap='gray')\n",
    "    plt.xticks([])\n",
    "    plt.yticks([])\n",
    "    plt.xlabel(f'Label: {item[1][0]}')\n",
    "    plt.show()"
   ]
  },
  {
   "cell_type": "markdown",
   "metadata": {},
   "source": [
    "**Checkpoint:** You should get as output ```(32, 64, 64, 3)``` as well as (on first execution) an image showing forest."
   ]
  },
  {
   "cell_type": "markdown",
   "metadata": {},
   "source": [
    "12. Transform ```val_ds``` and ```test_ds``` in the same way, only omit calls of ```repeat``` and ```shuffle``` (would be without effect here) and use ```batch_size=1``` in the case of ```test_ds```.\n",
    "\n",
    "You can either put all these calls into one line of code per dataset, or use a new line for each transformation. Be aware that each above-mentioned method returns a new dataset, as opposed to modifying a dataset in place."
   ]
  },
  {
   "cell_type": "code",
   "execution_count": null,
   "metadata": {},
   "outputs": [],
   "source": [
    "# your code"
   ]
  },
  {
   "cell_type": "markdown",
   "metadata": {},
   "source": [
    "## 1.2 Training phase\n",
    "\n",
    "Now that inspection and preprocessing of the data are finished, we will use ```tensorflow.keras``` to define a first neural network model and train that model on the ```EUROSAT``` data."
   ]
  },
  {
   "cell_type": "markdown",
   "metadata": {},
   "source": [
    "### Model definition\n",
    "\n",
    "13. Use the Keras Sequential API to define a *fully connected* model ```model``` featuring the following architecture:\n",
    "\n",
    " - One (parameter-free) input layer to vectorize the input data,\n",
    " - one hidden layer with 256 neurons and ReLU activation function,\n",
    " - one output layer with a suitable number of neurons and softmax activation function.\n",
    "\n",
    "    \n",
    "Helpful information can be found under https://www.tensorflow.org/api_docs/python/tf/keras/Sequential/. Regarding the input layer, use ```keras.layers.Flatten()``` and submit the argument ```input_shape``` to inform the model about the input data format. To that end, you can use ```info.features[\"image\"].shape``` again."
   ]
  },
  {
   "cell_type": "code",
   "execution_count": null,
   "metadata": {},
   "outputs": [],
   "source": [
    "# your code"
   ]
  },
  {
   "cell_type": "markdown",
   "metadata": {},
   "source": [
    "### Model summary\n",
    "\n",
    "14. Use ```model.summary``` to display a summary of your model."
   ]
  },
  {
   "cell_type": "code",
   "execution_count": null,
   "metadata": {
    "scrolled": true
   },
   "outputs": [],
   "source": [
    "# your code"
   ]
  },
  {
   "cell_type": "markdown",
   "metadata": {},
   "source": [
    "**Checkpoint:** The end of the output of ```model.summary()``` should be as follows.\n",
    "\n",
    "```\n",
    "Total params: 3,148,554\n",
    "Trainable params: 3,148,554\n",
    "Non-trainable params: 0\n",
    "```"
   ]
  },
  {
   "cell_type": "markdown",
   "metadata": {},
   "source": [
    "### Training\n",
    "\n",
    "15. Call ```model.compile``` to compile your model. Use the loss function ```keras.losses.sparse_categorical_crossentropy```, the optimizer ```keras.optimizers.Adam```, as well as the metric ```keras.metrics.sparse_categorical_accuracy```. Moreover, use a learning rate rate schedule to implement a learning rate decay from initially ```1e-4``` to eventually ```1e-8```. Be sure to set the argument ```decay_steps``` of the schedule appropriately. Useful information can be found under https://www.tensorflow.org/api_docs/python/tf/keras/optimizers/schedules/PolynomialDecay."
   ]
  },
  {
   "cell_type": "code",
   "execution_count": null,
   "metadata": {},
   "outputs": [],
   "source": [
    "epochs = 100 # hint: you need this here\n",
    "\n",
    "# your code"
   ]
  },
  {
   "cell_type": "markdown",
   "metadata": {},
   "source": [
    "16. Call ```model.fit``` with return value ```history``` to train your model for 100 epochs (as indicated in the previous cell) on ```train_ds```. Use the argument ```steps_per_epoch``` to pass the number of batches that need to be processed in each epoch. This number corresponds to the sum of entries of ```train_occurences``` divided by ```batch_size``` (round up). Also pass validation data ```val_ds```."
   ]
  },
  {
   "cell_type": "code",
   "execution_count": null,
   "metadata": {
    "scrolled": true
   },
   "outputs": [],
   "source": [
    "# your code"
   ]
  },
  {
   "cell_type": "markdown",
   "metadata": {},
   "source": [
    "17. Save your model as ```my_first_model.h5```."
   ]
  },
  {
   "cell_type": "code",
   "execution_count": null,
   "metadata": {},
   "outputs": [],
   "source": [
    "# your code"
   ]
  },
  {
   "cell_type": "markdown",
   "metadata": {},
   "source": [
    "18. Execute the following code to load your model again (this can be helpful if you pause and want to continue later)."
   ]
  },
  {
   "cell_type": "code",
   "execution_count": null,
   "metadata": {},
   "outputs": [],
   "source": [
    "# your code"
   ]
  },
  {
   "cell_type": "markdown",
   "metadata": {},
   "source": [
    "**Checkpoint:** You should have been able to save and load your model again."
   ]
  },
  {
   "cell_type": "markdown",
   "metadata": {},
   "source": [
    "### Learning curves\n",
    "\n",
    "The return value of ```model.fit``` is an object ```history``` of type ```keras.callbacks.History```. This object features attributes ```history.history``` and ```history.params```. The former is a dictionary with keys ```\"loss\"```, ```\"sparse_categorical_accuracy\"```, ```\"val_loss\"```, and ```\"val_sparse_categorical_accuracy\"```. The associated values are lists containing the respective metrics computed towards the end of each epoch.\n",
    "\n",
    "19. Construct an object ```history_frame``` of class ```pd.DataFrame``` from ```history.history```. Call ```history_frame.plot(figsize=(8, 5))``` and afterwards ```plt.show()```.\n",
    "\n",
    "Write your code below the two lines at the top of the following cell. The usage of ```seaborn``` here only provides a standardized and relatively pleasing style and rendering of the plots."
   ]
  },
  {
   "cell_type": "code",
   "execution_count": null,
   "metadata": {
    "scrolled": true
   },
   "outputs": [],
   "source": [
    "sns.set_style('darkgrid', {'axes.facecolor': '.9'})\n",
    "sns.set_context('notebook')\n",
    "\n",
    "# your code"
   ]
  },
  {
   "cell_type": "markdown",
   "metadata": {},
   "source": [
    "### Model evaluation\n",
    "\n",
    "During training, you could already watch the values of ```loss```, ```sparse_categorical_accuracy```, ```val_loss``` and ```sparse_categorical_val_accuracy``` evolve. To evaluate your model manually on a dataset, you can also call ```model.evaluate```.\n",
    "\n",
    "20. Apply ```model.evaluate``` twice to evaluate your model on training and validation data."
   ]
  },
  {
   "cell_type": "code",
   "execution_count": null,
   "metadata": {
    "scrolled": true
   },
   "outputs": [],
   "source": [
    "# your code"
   ]
  },
  {
   "cell_type": "markdown",
   "metadata": {},
   "source": [
    "***Congratulations!***\n",
    "\n",
    "You have trained a first model for multiclass classification on ```EUROSAT``` and that is an important milestone!"
   ]
  },
  {
   "cell_type": "markdown",
   "metadata": {},
   "source": [
    "## 1.3 After training\n",
    "\n",
    "Apart from the model architecture and the observed metrics ```loss```, ```sparse_categorical_accuracy```, ```val_loss``` and ```val_sparse_categorical_accuracy```, we know yet only little about the functionality of our model. In this section, you will get to know two techniques for model visualization and interpretation."
   ]
  },
  {
   "cell_type": "markdown",
   "metadata": {},
   "source": [
    "### Forward propagation and model prediction\n",
    "\n",
    "Before we proceed to a first visualization technique, we recapitulate the forward propagation of an input image through a fully connected neural network. For a model with one $\\mathrm{ReLU}$ hidden layer and $\\mathrm{softmax}$ output layer, the forward mapping can be written as follows.\n",
    "\n",
    "$f(\\mathbf x) = \\underbrace{\\mathrm{softmax}(\\mathbf W^{[2]} \\underbrace{\\mathrm{ReLU}(\\mathbf W^{[1]}\\mathbf x + \\mathbf b^{[1]})}_{\\mathbf a^{[1]}} + \\mathbf b^{[2]})}_{\\mathbf a^{[2]}}$\n",
    "\n",
    "As a first step, we will now compute $f(\\mathbf x)$ using ```model```. The fastest way to do so is generally via the method ```model.predict```. However, just once, we will evaluate each layer of ```model``` separately to compute the network output. You can access the layers via ```model.layers[i]``` and use this object like a function. \n",
    "\n",
    "21. Complete the following code where indicated. The variable ```output``` shall ultimately contain $f(\\mathbf x)$ while ```prediction``` shall be a single number representing the predicted class."
   ]
  },
  {
   "cell_type": "code",
   "execution_count": null,
   "metadata": {},
   "outputs": [],
   "source": [
    "# get one batch from train_ds and select first item\n",
    "for item in train_ds.take(1):\n",
    "    demo_image = item[0][:1, ...]\n",
    "    demo_label = item[1][0]\n",
    "    \n",
    "# compute hidden activations, model output and predicted_label\n",
    "flattened_input = None # your code\n",
    "hidden_activations = None # your code\n",
    "output = None # your code\n",
    "predicted_label = None # your code\n",
    "    \n",
    "# plot demo_image, print demo_label\n",
    "plt.imshow(demo_image[0, ...], cmap='gray')\n",
    "plt.xticks([])\n",
    "plt.yticks([])\n",
    "plt.xlabel('Input demo_image')\n",
    "plt.show()\n",
    "print(f'True label: {demo_label} ({info.features[\"label\"].names[demo_label]})\\n')\n",
    "\n",
    "# print my predicted class probabilities and demo_label\n",
    "print('My Predicted Class Probabilities:\\n')\n",
    "for i in range(output.shape[1]):\n",
    "    print(f'{i}: {output[0][i]:.5f}')\n",
    "print(f'\\nMy Predicted label: {predicted_label} ({info.features[\"label\"].names[predicted_label]})')\n",
    "\n",
    "# print model predicted class probabilities\n",
    "model_output = model.predict(demo_image)\n",
    "print('\\nModel Predicted Class Probabilities:\\n')\n",
    "for i in range(model_output.shape[1]):\n",
    "    print(f'{i}: {model_output[0][i]:.5f}')"
   ]
  },
  {
   "cell_type": "markdown",
   "metadata": {},
   "source": [
    "**Checkpoint:** The values ```My Predicted Class Probabilities``` should be equal to ```Model Predicted Class Probabilities```. Moreover, the value ```My Predicted Label``` should correspond to the index of the largest entry of ```My Predicted Class Probabilities```."
   ]
  },
  {
   "cell_type": "markdown",
   "metadata": {},
   "source": [
    "### Interpretation of model predictions\n",
    "\n",
    "Now that we have visualized the connection between model parameters and activations, we will implement another method to explain the relation between model input and prediction: *Layer-Wise Relevance Propagation* (LRP) computes one so-called relevance score per input pixel, which can be considered the contribution of that pixel to the model prediction. To that end, relevance scores for all neurons in the network are successively generated via backpropagation from the output layer to the input layer.\n",
    "\n",
    "Relevance scores for the ouput layer are initially defined using the model output (i.e., the predicted probability) corresponding to ```predicted_label``` ($k$ represents the respective index here):\n",
    "\n",
    "$\\mathbf r^{[L]} := \\begin{pmatrix}0\\\\\\vdots\\\\\\mathbf a^{[L]}_k\\\\\\vdots\\\\0\\end{pmatrix}\\in \\mathbb R^{n_L}$ \n",
    "\n",
    "Afterwards, relevance scores $\\mathbf r^{[L-1]}, \\mathbf r^{[L-2]}, \\dots, \\mathbf r^{[1]}, \\mathbf r^{[0]}$ (in exactly this order) are computed for all other layers as follows:\n",
    "\n",
    "$\\displaystyle \\mathbf r^{[\\ell-1]} := \\alpha \\ \\frac{\\mathbf a^{[\\ell -1]}\\odot \\mathbf W^{[\\ell]\\top+}}{\\mathbf a^{[\\ell -1]\\top} \\mathbf W^{[\\ell]\\top+}} \\ \\mathbf r^{[\\ell]} \\ - \\ \\beta \\ \\frac{\\mathbf a^{[\\ell -1]}\\odot \\mathbf W^{[\\ell]\\top-}}{\\mathbf a^{[\\ell -1]\\top} \\mathbf W^{[\\ell]\\top-}} \\ \\mathbf r^{[\\ell]}$\n",
    "\n",
    "Therein\n",
    "\n",
    "$\\mathbf W^{[\\ell]\\top+} := \\max(\\mathbf W^{[\\ell]\\top}, \\mathbf 0)$\n",
    "\n",
    "denotes the positive part and\n",
    "\n",
    "$\\mathbf W^{[\\ell]\\top-} := -\\min(\\mathbf W^{[\\ell]\\top}, \\mathbf 0)$\n",
    "\n",
    "denotes the negative part of $\\mathbf W^{[\\ell]\\top} \\in \\mathbb R^{n_{\\ell-1}\\times n_{\\ell}}$, where minimum and maximum are computed componentwise. Moreover, \n",
    "\n",
    "$\\mathbf a^{[\\ell -1]}\\odot \\mathbf W^{[\\ell]\\top+}\\in \\mathbb R^{n_{\\ell-1}\\times n_{\\ell}}$\n",
    "\n",
    "results from componentwise multiplication of $\\mathbf a^{[\\ell -1]}\\in \\mathbb R^{n_{\\ell-1}}$ with each column of $\\mathbf W^{[\\ell]\\top+}$ (same for the negative part). Analogously, the fraction line stands for componentwise division of the rows of $\\mathbf a^{[\\ell -1]}\\odot \\mathbf W^{[\\ell]\\top+}$ by $\\mathbf a^{[\\ell -1]\\top} \\mathbf W^{[\\ell]\\top+}\\in \\mathbb R^{1\\times n_{\\ell}}$ (same for the other fraction). Consequently, each fraction represents a $n_{\\ell-1}\\times n_{\\ell}$ matrix which is then multiplied with $\\mathbf r^{[\\ell]}\\in \\mathbb R^{n_{\\ell}\\times 1}$.\n",
    "\n",
    "The scalar values $\\alpha, \\beta \\geq 0$ are chosen such that $\\alpha - \\beta = 1$. Therewith, it can be shown that\n",
    "\n",
    "$\\sum_j \\mathbf r^{[L]}_j = \\sum_j \\mathbf r^{[L-1]}_j = \\sum_j \\mathbf r^{[L-2]}_j = \\dots = \\sum_j \\mathbf r^{[1]}_j = \\sum_j \\mathbf r^{[0]}_j$\n",
    "\n",
    "holds. Therefore, LRP has a so-called *relevance conservation property*.\n",
    "\n",
    "The above formulas are kept as brief as possible. However, they have a concrete interpretation: Each neuron in a layer contributes positively or negatively to all neuron activations in successive layers. The relevance score of a neuron can be considered a proportionate sum of these contributions, and that is exactly reflected in the above formulas.\n",
    "\n",
    "If you have questions regarding LRP or want to know more about it, join Question Time or have a look at https://www.sciencedirect.com/science/article/pii/S1051200417302385?via%3Dihub.\n",
    "\n",
    "Here is your exercise:\n",
    "\n",
    "22. Complete the following function at the positions indicated by ```None``` such that it fits exactly with the above LRP formula. Again, be aware that ```model.layers[l].weights[0]``` corresponds to $\\mathbf W^{[\\ell]\\top}$. If you are unsure about shapes or dimensions of tensors, you can use ```tf.Tensor.shape``` to generate intermediate outputs. Also note that the function ```LRP``` should work for arbitrarily deep and wide fully connected $\\mathrm{ReLU}$ networks with $\\mathrm{softmax}$ output activation."
   ]
  },
  {
   "cell_type": "code",
   "execution_count": null,
   "metadata": {},
   "outputs": [],
   "source": [
    "def lrp(alpha, beta, model, x):\n",
    "    \n",
    "    # get number of layers (including input layer)\n",
    "    num_layers = len(model.layers)\n",
    "    \n",
    "    # get activations\n",
    "    activations = [model.layers[0](x)]\n",
    "    for l in range(1, num_layers):\n",
    "        activations.append(model.layers[l](activations[-1]))\n",
    "        \n",
    "    # compute scores\n",
    "    scores = [tf.transpose(activations[-1])]\n",
    "    c = tf.squeeze(tf.math.argmax(scores[0]))\n",
    "    for l in range(num_layers-2, -1, -1):\n",
    "        w = model.layers[l+1].weights[0]\n",
    "        if l == num_layers-2:\n",
    "            w_pos = tf.clip_by_value(w[:, c:c+1], 0, np.inf)\n",
    "            w_neg = -tf.clip_by_value(w[:, c:c+1], -np.inf, 0)\n",
    "            s = scores[0][c:c+1]\n",
    "            scores[0] = s\n",
    "        else:\n",
    "            w_pos = tf.clip_by_value(w, 0, np.inf)\n",
    "            w_neg = -tf.clip_by_value(w, -np.inf, 0)\n",
    "            s = scores[0]\n",
    "        a = activations[l]\n",
    "        \n",
    "        # use the following mask_pos and mask_neg to prevent from division by zero when computing score_pos and score_neg\n",
    "        mask_pos = tf.cast(tf.matmul(a, w_pos) == 0, tf.float32) + 1e-6\n",
    "        mask_neg = tf.cast(tf.matmul(a, w_neg) == 0, tf.float32) + 1e-6\n",
    "        score_pos = None # your code\n",
    "        score_neg = None # your code\n",
    "        score_total = None # your code\n",
    "        scores.insert(0, score_total)\n",
    "        \n",
    "    return scores, activations"
   ]
  },
  {
   "cell_type": "markdown",
   "metadata": {},
   "source": [
    "23. Apply LRP with $\\alpha=2$ and $\\beta=1$ to ```model``` and ```demo_image```."
   ]
  },
  {
   "cell_type": "code",
   "execution_count": null,
   "metadata": {},
   "outputs": [],
   "source": [
    "# you can uncomment the following three lines to try demo_image / demo_label other than the above-defined\n",
    "# for item in train_ds.take(1):\n",
    "#     demo_image = item[0][:1, ...]\n",
    "#     demo_label = item[1][0]\n",
    "\n",
    "scores, _ = None # your code\n",
    "scores_input = scores[0].numpy().reshape(64, 64, 3)\n",
    "\n",
    "print('Predicted Probability for Predicted Class (Relevance in Output Layer):\\n')\n",
    "print(f'{tf.squeeze(scores[-1]).numpy():.5f}\\n')\n",
    "\n",
    "print('\\nSum of all Relevances in Input Layer:\\n')\n",
    "print(f'{tf.squeeze(tf.reduce_sum(scores[0])).numpy():.5f}\\n')\n",
    "\n",
    "print('\\nTrue Class\\n')\n",
    "print(f'{demo_label} ({info.features[\"label\"].names[demo_label]})\\n')\n",
    "\n",
    "prediction = model.predict(demo_image)\n",
    "predicted_label = np.argmax(prediction)\n",
    "print('\\nPredicted Class\\n')\n",
    "print(f'{predicted_label} ({info.features[\"label\"].names[predicted_label]}) with probability {prediction[0][predicted_label]}\\n')\n",
    "\n",
    "plt.subplots(1, 2, figsize=(12, 6.75))\n",
    "plt.subplot(1, 2, 1)\n",
    "plt.imshow(demo_image[0, ...], norm=mcolors.TwoSlopeNorm(vcenter=0.5))\n",
    "plt.xticks([])\n",
    "plt.yticks([])\n",
    "plt.subplot(1, 2, 2)\n",
    "tmp = np.sum(scores_input, axis=2)\n",
    "min_score = tmp.min()\n",
    "max_score = tmp.max()\n",
    "tmp = (tmp - min_score) / (max_score - min_score)\n",
    "plt.imshow(tmp, cmap=plt.cm.seismic, norm=mcolors.TwoSlopeNorm(vcenter=-min_score / (max_score - min_score)), alpha=1.)\n",
    "plt.xticks([])\n",
    "plt.yticks([])\n",
    "plt.show()"
   ]
  },
  {
   "cell_type": "markdown",
   "metadata": {},
   "source": [
    "**Checkpoint**: Both displayed numbers should be equal if your implementation of LRP is correct (otherwise, your implementation does not obey the relevance conservation property)."
   ]
  },
  {
   "cell_type": "markdown",
   "metadata": {},
   "source": [
    "### Hyperparameter Tuning\n",
    "\n",
    "Your first model had only one hidden layer and a very small number of neurons. In this section, you will train many more models to find a configuration of *hyperparameters* that yield a much better performance on the validation data. Although there exist dedicated approaches and software to explore the space of hyperparameters, we will start with simple nested ```for``` loops. This is for certain not the most efficient among the available approaches, which is why you should carry out the following computation on the GPU-cluster. You may extend the hyperparameter configurations specified below to extend the search space.\n",
    "\n",
    "24. Understand and complete the following code and discuss it with your teammate. Execute the code on the GPU-cluster."
   ]
  },
  {
   "cell_type": "code",
   "execution_count": null,
   "metadata": {},
   "outputs": [],
   "source": [
    "results = pd.DataFrame(columns=['start_learning_rate', 'width', 'depth', 'l2_weight', 'train_loss', 'val_loss', 'train_acc', 'val_acc'])\n",
    "\n",
    "start_learning_rates = [1e-5, 1e-4, 1e-3]\n",
    "widths = [256, 512, 1024]\n",
    "depths = [1, 2, 3]\n",
    "l2_weights = [0, 1e-5, 1e-4]\n",
    "\n",
    "for start_learning_rate in start_learning_rates:\n",
    "    for width in widths:\n",
    "        for depth in depths:\n",
    "            for l2_weight in l2_weights:\n",
    "                model = keras.models.Sequential()\n",
    "                # your code (add input layer)\n",
    "                for _ in range(depth):\n",
    "                    model.add(keras.layers.Dense(units=width, activation=\"relu\", kernel_regularizer=keras.regularizers.l2(l2_weight)))\n",
    "                # your code (add output layer)\n",
    "                scheduler = tf.keras.optimizers.schedules.PolynomialDecay(start_learning_rate, epochs * sum(train_occurences) // batch_size, 1e-8, power=1.0)\n",
    "                model.compile(loss=keras.losses.sparse_categorical_crossentropy, optimizer=keras.optimizers.Adam(learning_rate=scheduler), metrics=[keras.metrics.sparse_categorical_accuracy])\n",
    "                # your code (call fit function with verbose=0)\n",
    "                train_loss, train_acc = model.evaluate(train_ds, steps=np.sum(train_occurences) // batch_size)\n",
    "                val_loss, val_acc = model.evaluate(val_ds)\n",
    "                results_tmp = np.array([start_learning_rate, width, depth, l2_weight, train_loss, val_loss, train_acc, val_acc]).reshape(1, -1)\n",
    "                results = results.append(pd.DataFrame(data=results_tmp, columns=results.columns), ignore_index=True)\n",
    "results.to_csv('results.csv')"
   ]
  },
  {
   "cell_type": "markdown",
   "metadata": {},
   "source": [
    "25. Load the file ```results.csv``` using Pandas and find out which hyperparameter configuration worked best. Train a model ```my_best_model``` using these hyperparameters and evaluate it on ```test_ds```. Apply LRP to at least ten images from ```test_ds``` and visualize the results."
   ]
  },
  {
   "cell_type": "code",
   "execution_count": null,
   "metadata": {},
   "outputs": [],
   "source": []
  },
  {
   "cell_type": "markdown",
   "metadata": {},
   "source": [
    "### Confusion matrix\n",
    "\n",
    "The confusion matrix is a useful tool to evaluate your model's performance on each specific class rather than looking at an overall accuracy as above.\n",
    "\n",
    "26. Make yourself familiar with the concept of the confusion matrix, complete and execute the code below using your ```my_best_model```. Discuss the results with your teammate. The information under https://www.tensorflow.org/api_docs/python/tf/math/confusion_matrix could be helpful."
   ]
  },
  {
   "cell_type": "code",
   "execution_count": null,
   "metadata": {},
   "outputs": [],
   "source": [
    "def show_confusion_matrix(cm, labels):\n",
    "    plt.figure(figsize=(10, 8))\n",
    "    sns.heatmap(cm, xticklabels=labels, yticklabels=labels, annot=True, fmt='g')\n",
    "    plt.xlabel('Prediction')\n",
    "    plt.ylabel('Label')\n",
    "    plt.show()"
   ]
  },
  {
   "cell_type": "code",
   "execution_count": null,
   "metadata": {},
   "outputs": [],
   "source": [
    "true_test_labels = None # your code\n",
    "predicted_test_labels = None # your code\n",
    "num_classes = None # your code\n",
    "confusion_mtx = tf.math.confusion_matrix(true_test_labels, predicted_test_labels, num_classes)\n",
    "show_confusion_matrix(confusion_mtx, info.features[\"label\"].names)"
   ]
  },
  {
   "cell_type": "markdown",
   "metadata": {},
   "source": [
    "### Submission due on November 20th\n",
    "\n",
    "27. Submit your completed notebook, your ```my_best_model.h5```, the files you used to carry out hyperparameter tuning on the cluster, and your ```results.csv``` via your group's folder in Stud.IP **not later than November 20th 2022**."
   ]
  }
 ],
 "metadata": {
  "celltoolbar": "Raw Cell Format",
  "kernelspec": {
   "display_name": "Python 3 (ipykernel)",
   "language": "python",
   "name": "python3"
  },
  "language_info": {
   "codemirror_mode": {
    "name": "ipython",
    "version": 3
   },
   "file_extension": ".py",
   "mimetype": "text/x-python",
   "name": "python",
   "nbconvert_exporter": "python",
   "pygments_lexer": "ipython3",
   "version": "3.8.0"
  }
 },
 "nbformat": 4,
 "nbformat_minor": 2
}
